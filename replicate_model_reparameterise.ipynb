{
 "cells": [
  {
   "cell_type": "markdown",
   "metadata": {},
   "source": [
    "## Replicate model\n",
    "### Model relation between mean values\n",
    "The main model is\n",
    "\n",
    "$$\n",
    "CDW^{true}_i = \\beta_1 + \\beta_2 OD^{true}_i + \\epsilon_i \\\\\n",
    "$$\n",
    "\n",
    "**Measurement model**\n",
    "$$\n",
    "OD^{true}_i \\sim Normal(OD^{meas}_i, \\sigma_{od \\: meas \\: error}) \\\\\n",
    "CDW^{true}_i \\sim Normal(CDW^{meas}_i, \\sigma_{cdw \\: meas \\: error}) \\\\\n",
    "$$\n",
    "\n",
    "**Likelihood model**\n",
    "$$\n",
    "\\boldsymbol{CDW^{true}} \\sim  N(\\beta_1 + \\beta_2 \\boldsymbol{OD^{true}}, \\sigma_{\\epsilon})\n",
    "$$\n",
    "\n",
    "This means that the true value of CDW is probabilistic function of the true OD (maybe this it not what I actually want. Maybe I should instead have a deterministic relationship and say that all variance is measurement noise).\n",
    "\n",
    "**Prior model**\n",
    "$$\n",
    "\\epsilon_i \\sim Normal(?,?) \\\\\n",
    "\\beta_1 \\sim normal(0, 1) \\\\\n",
    "\\beta_2 \\sim normal(0.5, 1), \\: where \\: \\beta_2 > 0\n",
    "$$\n",
    "\n",
    "Rationals for the priors: $\\beta_1$ this is the intercept and in theory should be zero, but should be allow some wriggle room. $\\beta_2$ we know the there should be a positive correlation between the OD and CDW, therefore the it is strictly positive."
   ]
  },
  {
   "cell_type": "markdown",
   "metadata": {},
   "source": [
    "## Replicate model with deterministic relationship\n",
    "\n",
    "For any give true OD value we can calculate the true CDW through the following equation:\n",
    "\n",
    "$$\n",
    "CDW^{true}_i = \\beta_1 + \\beta_2 OD^{true}_i \\\\\n",
    "$$\n",
    "\n",
    "**Measurement model**\n",
    "\n",
    "The measurement model is the same. Though one could consider to use log-normal distributions\n",
    "$$\n",
    "OD^{true}_i \\sim Normal(OD^{meas}_i, \\sigma_{od \\: meas \\: error}) \\\\\n",
    "CDW^{true}_i \\sim Normal(CDW^{meas}_i, \\sigma_{cdw \\: meas \\: error}) \\\\\n",
    "$$\n",
    "\n",
    "\n",
    "**Likelihood model**\n",
    "\n",
    "We have no explicit likelihood model. Because the likelihood is inferred from the measurement model.\n",
    "\n",
    "$$\n",
    "P(\\theta | CDW_{meas}, OD_{meas}, M)\n",
    "$$\n",
    "where $\\theta = [\\sigma_{od \\: meas \\: error},  \\sigma_{cdw \\: meas \\: error}]$ and the $M$ it the deterministic model.\n",
    "\n",
    "\n",
    "**Priors**\n",
    "\n",
    "This time we will have priors for the measurement errors. This actual values could be chosen from linear error propagation of expected experimental errors (such as pipetting error, dilutions etc.).\n",
    "$$\n",
    "\\sigma_{od \\: meas \\: error} \\sim Normal() \\\\\n",
    "\\sigma_{cdw \\: meas \\: error} \\sim Normal() \\\\\n",
    "\\beta_1 \\sim Normal(0, 1) \\\\\n",
    "\\beta_2 \\sim Normal(0.5, 1), \\: where \\: \\beta_2 > 0\n",
    "$$"
   ]
  },
  {
   "cell_type": "markdown",
   "metadata": {},
   "source": []
  }
 ],
 "metadata": {
  "language_info": {
   "name": "python"
  },
  "orig_nbformat": 4
 },
 "nbformat": 4,
 "nbformat_minor": 2
}
