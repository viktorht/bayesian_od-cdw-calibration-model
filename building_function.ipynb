{
 "cells": [
  {
   "cell_type": "code",
   "execution_count": 45,
   "metadata": {},
   "outputs": [],
   "source": [
    "import os\n",
    "\n",
    "import arviz as az\n",
    "import numpy as np\n",
    "import pandas as pd\n",
    "import xarray\n",
    "\n",
    "from matplotlib import pyplot as plt\n",
    "\n",
    "\n",
    "RESULTS_DIR = os.path.join(\"results\", \"runs\")\n",
    "MODEL_NANE = \"mean_model\"\n",
    "posterior_file = os.path.join(RESULTS_DIR, MODEL_NANE, \"posterior.nc\")\n",
    "\n",
    "od = np.array([1, 60, 50, 100])\n",
    "\n",
    "posterior = az.from_netcdf(posterior_file)\n",
    "\n",
    "def posterior_predictive_dist(od: np.array)->np.ndarray:\n",
    "    assert od.shape.__len__() == 1, 'od array is not 1 dimentional'\n",
    "\n",
    "    od = od.flatten() # has no effect arary is already flat\n",
    "\n",
    "    beta1 = posterior.posterior['beta1'].values.reshape(-1, 1)\n",
    "    beta2 = posterior.posterior['beta2'].values.reshape(-1, 1)\n",
    "\n",
    "    return beta1 + beta2 * od\n",
    "\n",
    "def test_posterior_predictive_dist():\n",
    "    test_od = np.array([1, 60, 50, 100])\n",
    "    result = posterior_predictive_dist(test_od)\n",
    "\n",
    "    assert result.shape[1] == 4, 'predictions results have the wrong shape. Wrong number of columns.'\n",
    "\n",
    "test_posterior_predictive_dist()"
   ]
  },
  {
   "cell_type": "markdown",
   "metadata": {},
   "source": []
  },
  {
   "cell_type": "code",
   "execution_count": null,
   "metadata": {},
   "outputs": [],
   "source": [
    "import pandas as pd\n",
    "\n"
   ]
  }
 ],
 "metadata": {
  "interpreter": {
   "hash": "ffd05866efd2aaf319141d31c8031b96ed72f9d4e0d1bcaf2053d637ef661c12"
  },
  "kernelspec": {
   "display_name": "Python 3.8.5 ('.venv_bayes-od-cdw': venv)",
   "language": "python",
   "name": "python3"
  },
  "language_info": {
   "codemirror_mode": {
    "name": "ipython",
    "version": 3
   },
   "file_extension": ".py",
   "mimetype": "text/x-python",
   "name": "python",
   "nbconvert_exporter": "python",
   "pygments_lexer": "ipython3",
   "version": "3.8.5"
  },
  "orig_nbformat": 4
 },
 "nbformat": 4,
 "nbformat_minor": 2
}
